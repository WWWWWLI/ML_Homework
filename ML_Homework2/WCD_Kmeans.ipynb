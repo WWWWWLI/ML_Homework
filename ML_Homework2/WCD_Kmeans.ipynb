{
 "cells": [
  {
   "cell_type": "code",
   "execution_count": 61,
   "metadata": {
    "collapsed": true,
    "pycharm": {
     "is_executing": false
    }
   },
   "outputs": [
    {
     "data": {
      "text/plain": "     Channel  Region  Fresh   Milk  Grocery  Frozen  Detergents_Paper  \\\n0          2       3  12669   9656     7561     214              2674   \n1          2       3   7057   9810     9568    1762              3293   \n2          2       3   6353   8808     7684    2405              3516   \n3          1       3  13265   1196     4221    6404               507   \n4          2       3  22615   5410     7198    3915              1777   \n..       ...     ...    ...    ...      ...     ...               ...   \n435        1       3  29703  12051    16027   13135               182   \n436        1       3  39228   1431      764    4510                93   \n437        2       3  14531  15488    30243     437             14841   \n438        1       3  10290   1981     2232    1038               168   \n439        1       3   2787   1698     2510      65               477   \n\n     Delicassen          Mean  \n0          1338   5685.333333  \n1          1776   5544.333333  \n2          7844   6101.666667  \n3          1788   4563.500000  \n4          5185   7683.333333  \n..          ...           ...  \n435        2204  12217.000000  \n436        2346   8062.000000  \n437        1867  12901.166670  \n438        2125   2972.333333  \n439          52   1264.833333  \n\n[440 rows x 9 columns]",
      "text/html": "<div>\n<style scoped>\n    .dataframe tbody tr th:only-of-type {\n        vertical-align: middle;\n    }\n\n    .dataframe tbody tr th {\n        vertical-align: top;\n    }\n\n    .dataframe thead th {\n        text-align: right;\n    }\n</style>\n<table border=\"1\" class=\"dataframe\">\n  <thead>\n    <tr style=\"text-align: right;\">\n      <th></th>\n      <th>Channel</th>\n      <th>Region</th>\n      <th>Fresh</th>\n      <th>Milk</th>\n      <th>Grocery</th>\n      <th>Frozen</th>\n      <th>Detergents_Paper</th>\n      <th>Delicassen</th>\n      <th>Mean</th>\n    </tr>\n  </thead>\n  <tbody>\n    <tr>\n      <th>0</th>\n      <td>2</td>\n      <td>3</td>\n      <td>12669</td>\n      <td>9656</td>\n      <td>7561</td>\n      <td>214</td>\n      <td>2674</td>\n      <td>1338</td>\n      <td>5685.333333</td>\n    </tr>\n    <tr>\n      <th>1</th>\n      <td>2</td>\n      <td>3</td>\n      <td>7057</td>\n      <td>9810</td>\n      <td>9568</td>\n      <td>1762</td>\n      <td>3293</td>\n      <td>1776</td>\n      <td>5544.333333</td>\n    </tr>\n    <tr>\n      <th>2</th>\n      <td>2</td>\n      <td>3</td>\n      <td>6353</td>\n      <td>8808</td>\n      <td>7684</td>\n      <td>2405</td>\n      <td>3516</td>\n      <td>7844</td>\n      <td>6101.666667</td>\n    </tr>\n    <tr>\n      <th>3</th>\n      <td>1</td>\n      <td>3</td>\n      <td>13265</td>\n      <td>1196</td>\n      <td>4221</td>\n      <td>6404</td>\n      <td>507</td>\n      <td>1788</td>\n      <td>4563.500000</td>\n    </tr>\n    <tr>\n      <th>4</th>\n      <td>2</td>\n      <td>3</td>\n      <td>22615</td>\n      <td>5410</td>\n      <td>7198</td>\n      <td>3915</td>\n      <td>1777</td>\n      <td>5185</td>\n      <td>7683.333333</td>\n    </tr>\n    <tr>\n      <th>...</th>\n      <td>...</td>\n      <td>...</td>\n      <td>...</td>\n      <td>...</td>\n      <td>...</td>\n      <td>...</td>\n      <td>...</td>\n      <td>...</td>\n      <td>...</td>\n    </tr>\n    <tr>\n      <th>435</th>\n      <td>1</td>\n      <td>3</td>\n      <td>29703</td>\n      <td>12051</td>\n      <td>16027</td>\n      <td>13135</td>\n      <td>182</td>\n      <td>2204</td>\n      <td>12217.000000</td>\n    </tr>\n    <tr>\n      <th>436</th>\n      <td>1</td>\n      <td>3</td>\n      <td>39228</td>\n      <td>1431</td>\n      <td>764</td>\n      <td>4510</td>\n      <td>93</td>\n      <td>2346</td>\n      <td>8062.000000</td>\n    </tr>\n    <tr>\n      <th>437</th>\n      <td>2</td>\n      <td>3</td>\n      <td>14531</td>\n      <td>15488</td>\n      <td>30243</td>\n      <td>437</td>\n      <td>14841</td>\n      <td>1867</td>\n      <td>12901.166670</td>\n    </tr>\n    <tr>\n      <th>438</th>\n      <td>1</td>\n      <td>3</td>\n      <td>10290</td>\n      <td>1981</td>\n      <td>2232</td>\n      <td>1038</td>\n      <td>168</td>\n      <td>2125</td>\n      <td>2972.333333</td>\n    </tr>\n    <tr>\n      <th>439</th>\n      <td>1</td>\n      <td>3</td>\n      <td>2787</td>\n      <td>1698</td>\n      <td>2510</td>\n      <td>65</td>\n      <td>477</td>\n      <td>52</td>\n      <td>1264.833333</td>\n    </tr>\n  </tbody>\n</table>\n<p>440 rows × 9 columns</p>\n</div>"
     },
     "metadata": {},
     "output_type": "execute_result",
     "execution_count": 61
    }
   ],
   "source": [
    "import pandas as pd\n",
    "import numpy as np\n",
    "from sklearn.cluster import KMeans\n",
    "\n",
    "data = pd.read_csv(r'D:\\研一\\机器学习及其应用\\datasets\\Homework2\\Wholesale customers data.csv')\n",
    "\n",
    "data"
   ]
  },
  {
   "cell_type": "code",
   "execution_count": 65,
   "outputs": [],
   "source": [
    "#对channel Region以及二者排列组合进行聚类\n",
    "N = 2\n",
    "kmeans = KMeans(n_clusters=N,max_iter=10000)\n",
    "kmeans.fit(data.iloc[:,2:8])\n",
    "\n",
    "y_ = kmeans.predict(data.iloc[:,2:8])\n"
   ],
   "metadata": {
    "collapsed": false,
    "pycharm": {
     "name": "#%%\n",
     "is_executing": false
    }
   }
  },
  {
   "cell_type": "code",
   "execution_count": 66,
   "outputs": [
    {
     "name": "stdout",
     "text": [
      "[2 2 2 1 2 2 1 1 1 1 1 2 2 1 2 2 2 1 1 1 1 1 1 1 1 2 1 1 1 1 1 1 1 1 1 1 1\n 1 1 1 1 1 1 1 1 1 1 1 1 1 2 2 2 1 1 1 1 1 1 1 1 1 1 1 1]\n[2 2 2 1 2 2 2 1 2 2 2 2 1 2 1 2 1 2 1 2 1 1 2 1 1 1 1 2 2 2 1 2 2 2 2 2 2\n 2 1 1 2 1 2 2 1 1 2 2 2 1 2 1 2 1 1 1 1 1 2 2 1 1 2 1 1 1 2 2 1 2 1 1 1 2\n 1 2 1 2 1 1 1 2 2 2 1 1 2 2 2 2 1 2 1 1 1 1 1 1 1 1 1 1 1 2 1 2 1 1 1 1 1\n 1 1 1 1 1 1 1 1 1 1 1 1 1 1 1 1 1 2 2 1 2 2 2 1 1 2 2 2 2 1 1 1 2 2 1 2 1\n 2 1 1 1 1 1 1 1 1 1 2 2 1 1 1 2 1 1 2 1 1 2 2 1 1 2 1 2 1 2 1 2 1 1 2 1 2\n 1 2 1 1 1 1 2 1 1 2 1 1 1 2 1 1 1 1 1 1 1 1 1 1 2 1 1 1 1 1 2 1 1 1 1 1 1\n 1 1 2 1 2 1 2 1 1 1 1 1 1 1 1 2 1 2 1 1 1 1 1 1 2 1 2 1 2 2 1 2 2 2 2 2 2\n 2 1 1 2 1 2 1 1 2 1 1 1 2 1 1 1 1 1 1 1 1 1 2 1 2 2 1 1 1 1 2 2 1 2 1 1 2\n 1 2 1 2 1 2 1 1 1 2 1 1 1 1 1 1 1 2 1 1 1 1 1 1 2 1 1 2 1 2 1 1 1 1 1 1 1\n 1 1 1 1 1 1 2 1 1 1 1 1 1 2 2 1 1 1 1 1 1 2 2 1 2 1 1 2 2 2 1 1 1 1 1 1 1\n 1 1 2 1 1]\n"
     ],
     "output_type": "stream"
    }
   ],
   "source": [
    "#显示聚类结果，查看是否与之相关\n",
    "for i in range(N):\n",
    "    index = np.argwhere(y_ == i).reshape(-1)\n",
    "    print(data['Channel'][index].values)"
   ],
   "metadata": {
    "collapsed": false,
    "pycharm": {
     "name": "#%%\n",
     "is_executing": false
    }
   }
  },
  {
   "cell_type": "code",
   "execution_count": 67,
   "outputs": [],
   "source": [
    "#均值聚类测试\n",
    "N = 5\n",
    "kmeans = KMeans(n_clusters=N,max_iter=10000)\n",
    "kmeans.fit(data.iloc[:,2:8])\n",
    "\n",
    "y_ = kmeans.predict(data.iloc[:,2:8])"
   ],
   "metadata": {
    "collapsed": false,
    "pycharm": {
     "name": "#%%\n",
     "is_executing": false
    }
   }
  },
  {
   "cell_type": "code",
   "execution_count": 68,
   "outputs": [
    {
     "name": "stdout",
     "text": [
      "7777.0\n5644.0\n4613.166667\n18471.5\n10920.33333\n7890.166667\n7408.5\n6749.833333\n7685.166667\n10472.33333\n\n7683.333333\n10481.5\n8801.833333\n8954.833333\n7196.666667\n5352.666667\n8964.166667\n9898.333333\n5375.166667\n8487.833333\n\n5685.333333\n5544.333333\n6101.666667\n4563.5\n4451.666667\n4410.833333\n4919.5\n3115.666667\n3543.166667\n2826.833333\n\n32119.0\n27646.83333\n33315.16667\n25082.83333\n20048.5\n\n11791.0\n13108.16667\n15083.0\n17507.66667\n11377.33333\n31694.83333\n30947.16667\n10360.5\n12207.16667\n11716.16667\n\n"
     ],
     "output_type": "stream"
    }
   ],
   "source": [
    "#显示聚类结果，查看是否与之相关\n",
    "for i in range(N):\n",
    "    index = np.argwhere(y_ == i).reshape(-1)\n",
    "    for j in data['Mean'][index].values[:10]:\n",
    "        print(j)\n",
    "    print()\n"
   ],
   "metadata": {
    "collapsed": false,
    "pycharm": {
     "name": "#%%\n",
     "is_executing": false
    }
   }
  }
 ],
 "metadata": {
  "language_info": {
   "codemirror_mode": {
    "name": "ipython",
    "version": 2
   },
   "file_extension": ".py",
   "mimetype": "text/x-python",
   "name": "python",
   "nbconvert_exporter": "python",
   "pygments_lexer": "ipython2",
   "version": "2.7.6"
  },
  "kernelspec": {
   "name": "python3",
   "language": "python",
   "display_name": "Python 3"
  },
  "pycharm": {
   "stem_cell": {
    "cell_type": "raw",
    "source": [],
    "metadata": {
     "collapsed": false
    }
   }
  }
 },
 "nbformat": 4,
 "nbformat_minor": 0
}